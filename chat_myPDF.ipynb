{
 "cells": [
  {
   "cell_type": "markdown",
   "metadata": {},
   "source": []
  },
  {
   "cell_type": "code",
   "execution_count": 5,
   "metadata": {},
   "outputs": [
    {
     "data": {
      "text/plain": [
       "True"
      ]
     },
     "execution_count": 5,
     "metadata": {},
     "output_type": "execute_result"
    }
   ],
   "source": [
    "import os\n",
    "import warnings\n",
    "from dotenv import load_dotenv\n",
    "\n",
    "os.environ['KMP_DUPLICATE_LIB_OK'] = 'True'\n",
    "warnings.filterwarnings(\"ignore\")\n",
    "\n",
    "load_dotenv()"
   ]
  },
  {
   "cell_type": "code",
   "execution_count": 1,
   "metadata": {},
   "outputs": [
    {
     "name": "stdout",
     "output_type": "stream",
     "text": [
      "True\n"
     ]
    }
   ],
   "source": [
    "import os\n",
    "print(os.path.exists(\"./rag-dataset/gym supplements/1. Analysis of Actual Fitness Supplement.pdf\"))\n"
   ]
  },
  {
   "cell_type": "code",
   "execution_count": 2,
   "metadata": {},
   "outputs": [],
   "source": [
    "from langchain_community.document_loaders import PyMuPDFLoader\n",
    "\n",
    "loader = PyMuPDFLoader(\"./rag-dataset/gym supplements/1. Analysis of Actual Fitness Supplement.pdf\")\n",
    "\n",
    "docs = loader.load()"
   ]
  },
  {
   "cell_type": "code",
   "execution_count": 3,
   "metadata": {},
   "outputs": [],
   "source": [
    "doc = docs[0]\n",
    "# print(doc.page_content)\n"
   ]
  },
  {
   "cell_type": "code",
   "execution_count": 4,
   "metadata": {},
   "outputs": [
    {
     "data": {
      "text/plain": [
       "[Document(metadata={'producer': 'iLovePDF', 'creator': '', 'creationdate': '', 'source': './rag-dataset/gym supplements/1. Analysis of Actual Fitness Supplement.pdf', 'file_path': './rag-dataset/gym supplements/1. Analysis of Actual Fitness Supplement.pdf', 'total_pages': 15, 'format': 'PDF 1.7', 'title': '', 'author': '', 'subject': '', 'keywords': '', 'moddate': '2024-10-21T11:38:50+00:00', 'trapped': '', 'modDate': 'D:20241021113850Z', 'creationDate': '', 'page': 0}, page_content='Citation: Espeño, P.R.; Ong, A.K.S.;\\nGerman, J.D.; Gumasing, M.J.J.; Casas,\\nE.S. Analysis of Actual Fitness\\nSupplement Consumption among\\nHealth and Fitness Enthusiasts. Foods\\n2024, 13, 1424. https://doi.org/\\n10.3390/foods13091424\\nAcademic Editors: Ilija Djekic\\nand Nada Smigic\\nReceived: 30 March 2024\\nRevised: 15 April 2024\\nAccepted: 18 April 2024\\nPublished: 6 May 2024\\nCopyright: © 2024 by the authors.\\nLicensee MDPI, Basel, Switzerland.\\nThis article is an open access article\\ndistributed\\nunder\\nthe\\nterms\\nand\\nconditions of the Creative Commons\\nAttribution (CC BY) license (https://\\ncreativecommons.org/licenses/by/\\n4.0/).\\nfoods\\nArticle\\nAnalysis of Actual Fitness Supplement Consumption among\\nHealth and Fitness Enthusiasts\\nPaolo Renzo Espeño 1, Ardvin Kester S. Ong 1,2,*\\n, Josephine D. German 1\\n, Ma. Janice J. Gumasing 3\\nand Ethan S. Casas 1\\n1\\nSchool of Industrial Engineering and Engineering Management, Mapúa University, 658 Muralla St.,\\nIntramuros, Manila 1002, Philippines\\n2\\nE.T. Yuchengo School of Business, Mapúa University, 1191 Pablo Ocampo Sr. Ext., Makati 1204, Philippines\\n3\\nDepartment of Industrial and Systems Engineering, Gokongwei College of Engineering,\\nDe La Salle University, 2401 Taft Ave., Manila 1007, Philippines\\n*\\nCorrespondence: aksong@mapua.edu.ph; Tel.: +63-(2)8247-5000 (ext. 6202)\\nAbstract: With the rising popularity of fitness supplements, understanding the factors driving their\\nconsumption behaviors is crucial. This study investigated the actual consumption of fitness supple-\\nments utilizing the Theory of Planned Behavior (TPB), Health Belief Model (HBM), and the Theory\\nof Effort Minimization in Physical Activity (TEMPA) frameworks. The TPB provided insights into\\nhow attitudes, subjective norms, and perceived behavioral control influence individuals’ intentions\\nto consume fitness supplements. Additionally, the HBM sheds light on perceived effectiveness,\\nbenefits, barriers, and health motivation related to supplement consumption. Integrating the TEMPA\\nframework further investigated the role of effort minimization in physical activity contexts. Through\\nan online questionnaire, data were collected from a sample of 250 fitness supplement-consuming\\nrespondents. SEM analysis revealed significant associations between behavioral intentions and\\nattitudes, perceived behavioral control, health motivation, and controlled precursors. However, it\\nwas seen that subjective norms, perceived effectiveness, perceived benefits, and automatic precursors\\nwere deemed insignificant. The findings contribute to a comprehensive understanding of the factors\\nshaping actual consumption behaviors, offering valuable implications for marketers, health profes-\\nsionals, and policymakers seeking to promote informed and responsible supplement use among\\nhealth and fitness enthusiasts.\\nKeywords: fitness supplements; health belief model; theory of effort of minimization; theory of\\nplanned behavior; structural equation modelling\\n1. Introduction\\nSupplementary drinks or fitness supplements are commonly used to enhance an\\nindividual’s performance in various sports and health settings, catering to both competitive\\nand non-competitive athletes [1]. One widely known supplement for athletes and fitness\\nenthusiasts is protein supplements like protein shakes. Others may be whey protein,\\ncaffeine, and creatine, to name a few. These supplements play a crucial role in helping\\nindividuals increase muscle mass, recover faster, and enhance their overall performance [2].\\nWhey protein stands out as a top-quality protein source, containing more essential amino\\nacids than traditional protein sources. Its numerous benefits have made it a popular choice\\nfor snacks and drinks among consumers [3]. Another widely embraced supplement is\\ncaffeine, which is found in many sports and food supplements. Caffeine reduces perceived\\neffort, minimizes fatigue and pain, and proves to be effective for endurance and high-\\nintensity activities, which is the choice of consumers [4].\\nCreatine monohydrate is another well-known supplement used to gain muscle mass\\nand support performance and recovery. It is known not to increase fat mass and remains\\neffective even when taken in recommended doses [5]. Despite its popularity in the fitness\\nFoods 2024, 13, 1424. https://doi.org/10.3390/foods13091424\\nhttps://www.mdpi.com/journal/foods'),\n",
       " Document(metadata={'producer': 'iLovePDF', 'creator': '', 'creationdate': '', 'source': './rag-dataset/gym supplements/1. Analysis of Actual Fitness Supplement.pdf', 'file_path': './rag-dataset/gym supplements/1. Analysis of Actual Fitness Supplement.pdf', 'total_pages': 15, 'format': 'PDF 1.7', 'title': '', 'author': '', 'subject': '', 'keywords': '', 'moddate': '2024-10-21T11:38:50+00:00', 'trapped': '', 'modDate': 'D:20241021113850Z', 'creationDate': '', 'page': 1}, page_content='Foods 2024, 13, 1424\\n2 of 21\\nand sports industry, evidence suggests that creatine can benefit not only athletes but also\\nthe elderly and the general population [6]. Branched-chain amino acids (BCAA) also offer\\na plethora of benefits for consumers. As explained by Sanz et al. [7], BCAAs are stored\\ndirectly in muscles and serve as the raw materials needed to build new muscle. This\\ncontributes to the overall process of strengthening muscles and alleviating post-workout\\nsoreness. Consumers often integrate these supplements into their routines with the aim of\\noptimizing the outcomes they wish to achieve and support overall well-being [1].\\nThe sports supplement industry makes for an impressive market share of nearly\\n$12 billion in the health/wellness portfolio and is projected to be worth $24.4 billion\\nby 2025. In a study by Burke [4], which investigated 20 published studies about the\\nprevalence, methods, and reasons for supplement consumption, it is evident from the\\nfindings that supplement consumption is prevalent among athletes and even more so in\\nindividuals competing at higher levels. It can also be confirmed that most gym-goers\\ngenerally use dietary supplements, with a prevalence exceeding 40%, with a prevalence of\\n44% in Portugal and 81% in South Africa [8]. In a set of different studies, the prevalence\\namong gym-goers ranged from 29.4% to 47.5%, and these findings remained consistent. It\\nwas also seen that among 55 Spanish basketball players and English elite track and field\\nathletes, the prevalence was 58% and 86%, respectively [9].\\nWhen investigating the dietary habits of combat sports athletes in the Philippines,\\nthe findings indicated that the overall knowledge of the respondents on nutrition and\\ndietary habits was exceptional. However, the understanding of individuals about the\\nexcess intake of vitamin and mineral supplements was poor [10]. Similarly, Elsahoryi\\net al. [11] assessed the trends on dietary supplements among students and found that\\nsupplements were deemed essential; however, their knowledge of them was concluded to\\nbe insufficient. The findings of these studies implicated a need for educational intervention\\non supplements. Furthermore, the presence of unlicensed and unsafe supplements poses\\na threat to uneducated consumers. The country’s Food and Drug Administration (FDA)\\nissued a strong public caution regarding the use of 11 dietary supplements in 2019. This\\nwas because the products have not undergone the regular evaluation process of the agency,\\nmaking it impossible to ensure the safety and quality of the items [12]. Additionally, the\\navailability of dietary supplements that claimed to help in weight loss has increased in\\ndrugstores and supermarkets. Many of these supplements contain various ingredients,\\ntypically herbs, vitamins, and minerals, caffeine, and laxatives, that when taken collectively,\\nhave unclear effects [13].\\nIndividuals leading luxurious lifestyles tend to exhibit a higher inclination toward\\nthe use of supplements [14], indicating a correlation between lifestyle and the tendency\\nto use supplements. Nagar [15] found attitude to be the most influencing predictor of\\nconsumers’ consumption intention of gym supplements, implying that customers’ attitudes\\ncan be affected by risk and benefits, social influence, and health consciousness. On the\\nother hand, Campbell et al. [16] highlighted perceived behavioral control as not highly\\ninfluenced by attitude and social norms. In another study, additional information on\\nlabels was found to significantly impact consumers’ behavioral intention to use dietary\\nsupplements [17]. The study further explained that consumers often consider using the\\nsupplement if its risks and benefits are well communicated on the label. It was also reported\\nthat customer consumption behavior with regard to fitness supplements is affected by\\ntheir comprehension of the side effects [18]. Moreover, it was indicated that knowledge\\nis a significant variable in consumers’ attitudes, beliefs, and intentions toward the use of\\nsupplements [19]. As knowledge grows, parallel improvement in understanding, belief,\\nand intention to use supplements is present.\\nJairoun et al. [20] suggested a positive perception regarding the use of fitness sup-\\nplements. That is, the consumption of fitness supplements has been perceived to lead to\\ndoping, and users demonstrate stronger intentions and attitudes toward it [21]. These\\nstudies highlighted the gap in proper education regarding supplements that can distort\\nindividuals’ ability to make informed and responsible choices about their consumption,'),\n",
       " Document(metadata={'producer': 'iLovePDF', 'creator': '', 'creationdate': '', 'source': './rag-dataset/gym supplements/1. Analysis of Actual Fitness Supplement.pdf', 'file_path': './rag-dataset/gym supplements/1. Analysis of Actual Fitness Supplement.pdf', 'total_pages': 15, 'format': 'PDF 1.7', 'title': '', 'author': '', 'subject': '', 'keywords': '', 'moddate': '2024-10-21T11:38:50+00:00', 'trapped': '', 'modDate': 'D:20241021113850Z', 'creationDate': '', 'page': 2}, page_content='Foods 2024, 13, 1424\\n3 of 21\\npotentially putting their health at risk [22,23]. Moreover, health behavior among consumers\\nwas barely addressed among the studies. It could be posited that scarce to no studies have\\nbeen conducted regarding fitness supplement consumption, especially in the Philippines,\\nwhere gym-goers and fitness enthusiasts are abundant [24]. The emphasis Filipinos place\\non both wellness and aesthetics has fueled a rise in gym participation nationwide. Conse-\\nquently, there has been a notable uptrend in the demand for nutraceuticals, such as protein\\nbars and powders, despite their higher costs [25].\\nThis study aimed to examine factors affecting the actual consumption of fitness supple-\\nments among health and fitness enthusiasts. This study employed a theoretical framework\\nthat combined the Theory of Planned Behavior (TPB), the Health Belief Model (HBM), and\\nthe recently developed Theoretical Framework of Motivation to Pursue Exercise Activities\\n(TEMPA). By integrating these frameworks, this study provided a more holistic under-\\nstanding of the psychological and motivational factors that contribute to the consumption\\nbehavior and intention of fitness supplements. The significance of this study lies in its\\npotential to contribute insights to both academia and the health and fitness industry. Un-\\nderstanding the determinants of supplement consumption can aid in developing targeted\\ninterventions, educational programs, and marketing strategies to promote the responsible\\nand informed use of fitness supplements among enthusiasts, as well as enhancing overall\\nhealth and well-being. Furthermore, the incorporation of the framework represents a novel\\napproach to studying health-related behavior, offering a more nuanced perspective on the\\nintricate interplay of psychological, belief-based, and motivational factors in the context\\nof fitness supplement consumption, which could be applied and extended among other\\nrelated studies.\\n2. Conceptual Analysis and Hypotheses Build-Up\\nFigure 1 presents the conceptual framework of this study, integrating TPB, HBM, and\\nTEMPA. A total of 12 hypotheses were generated along with 12 latent variables. Among the\\ntheories, the TPB is said to be a frequently used behavioral model that aids in investigating\\nshifts in people’s behavior. This model operates on the premise that behavior is intentional,\\nenabling the prediction of actions [26]. On the other hand, the HBM is a well-researched\\nframework for understanding health behavior. It seeks to anticipate behavior related to\\nhealth by examining specific patterns of beliefs [27]. Lastly, several studies have employed\\nTEMPA to align with individuals’ physical efforts. TEMPA is a comprehensive model\\nassessing individuals’ tendency to engage in physical activities, incorporating factors that\\nmay promote their intentions [28].\\nDealing with TPB domains, several studies have justified the effects of behavioral\\nintention on up-taking dietary supplements. In this study, attitude refers to a disposition to\\nreact positively or negatively to a behavior [29]. It is evident in multiple studies that attitude\\nis a variable that has a significant impact on consumer’s behavioral intention. In context,\\nConner et al. [30] investigated the environmental influences that contributed to the decision\\nof women to use dietary supplements. The results showed that stronger intentions to use\\nsupplements were associated with positive attitudes. Liu et al. [31] assessed the effect of the\\nfear of COVID-19 on purchase behavior on dietary supplements. Their findings supported\\nthat attitude, which, alongside other behavioral parameters, significantly affected purchase\\nintention. Moreover, Nagar [15] examined the choice of gym supplements that gym-goers\\nwould purchase. The findings revealed that gym-goers’ intention to buy supplements is\\ninfluenced by their attitude, which is shaped by perceived risk and benefit, social influence,\\nand health consciousness.\\nOn the other hand, subjective norms represent an individual’s perception of others’\\nopinions regarding the execution of a particular behavior, affecting the intentions of Iranian\\nadolescent girls to intake iron and vitamin D supplements [32]. While Housman [33]\\nanalyzed the usage of sports-related supplements of elite female athletes, it was noted that\\ntheir perceptions were influenced greatly by the beliefs held by significant people around\\nthem. Participants expressed that the strongest influences on their behavior came from'),\n",
       " Document(metadata={'producer': 'iLovePDF', 'creator': '', 'creationdate': '', 'source': './rag-dataset/gym supplements/1. Analysis of Actual Fitness Supplement.pdf', 'file_path': './rag-dataset/gym supplements/1. Analysis of Actual Fitness Supplement.pdf', 'total_pages': 15, 'format': 'PDF 1.7', 'title': '', 'author': '', 'subject': '', 'keywords': '', 'moddate': '2024-10-21T11:38:50+00:00', 'trapped': '', 'modDate': 'D:20241021113850Z', 'creationDate': '', 'page': 3}, page_content='Foods 2024, 13, 1424\\n4 of 21\\nparents and teammates. The findings of Haubenstricker [34] also stated that subjective\\nnorms and attitude were the most influential drivers in female bodybuilders’ intentions to\\nuse dietary supplements.\\n \\nFigure 1. Conceptual framework combining TEMPA, HBM, and TPB to assess behavioral intention\\nand actual consumption of fitness supplements.\\nIn addition, Lino et al. [35] conducted a study to investigate the attitudes and beliefs\\non dietary supplements among HIV-positive black women. The findings of the study\\nindicated that perceived behavioral control is a significant predictor of intention to use\\ndietary supplements. Similarly, Chen et al. [36] examined the effects of the perceived\\nbenefits of vitamin D supplementation intention. The results presented that the levels of\\nintention to take vitamin D supplements were accurately predicted by factors under the\\nTPB domains; the highest was perceived behavioral control. Pawlak et al. [37] investigated\\nthe drivers of multivitamin consumption in female Caucasian college students. Perceived\\nbehavioral control, along with attitude, were found to have a significant impact on their\\nbehavioral intentions. Thus, in this study hypothesized the following:\\nH1. Attitude has a significant direct effect on behavioral intention.\\nH2. Subjective norms have a significant direct effect on behavioral intention.\\nH3. Perceived behavioral control has a significant direct effect on behavioral intention.\\nFor health and consumers’ belief, Hanna and Hughes [38] investigated the perspective\\nof the public regarding decision-making regarding over-the-counter drugs and their stance\\non the evidence supporting its effectiveness. The results of the study showed that the\\nperceived effectiveness of the medicine influenced their intention to purchase. Similarly,\\nMünstedt et al. [39] investigated the perceived effectiveness of complementary and alterna-\\ntive medicine. The findings indicated that belief in the effectiveness of complementary and\\nalternative medicine were motivating factors. Increasing perceived effectiveness results in'),\n",
       " Document(metadata={'producer': 'iLovePDF', 'creator': '', 'creationdate': '', 'source': './rag-dataset/gym supplements/1. Analysis of Actual Fitness Supplement.pdf', 'file_path': './rag-dataset/gym supplements/1. Analysis of Actual Fitness Supplement.pdf', 'total_pages': 15, 'format': 'PDF 1.7', 'title': '', 'author': '', 'subject': '', 'keywords': '', 'moddate': '2024-10-21T11:38:50+00:00', 'trapped': '', 'modDate': 'D:20241021113850Z', 'creationDate': '', 'page': 4}, page_content='Foods 2024, 13, 1424\\n5 of 21\\na positive attitude and stronger purchase intention, underscoring the importance of the\\nfactor in consumer behavior [40]. Hence, the following was hypothesized:\\nH4. Perceived effectiveness has a significant direct effect on behavioral intention.\\nMotivation for health involves an individual’s readiness to modify their behavior\\nfor the sake of enhancing their well-being [41]. In the study by Ataei et al. [42], it was\\nexplained that a significant influence of health motivation, among other factors, on farmers’\\nintentions to adopt green and safer pesticides was seen after they were aware of the benefits\\nof utilizing it. This signified that attitude toward health and the prevention of diseases is\\none of the main drivers to utilize the greener alternatives. Moreover, Sirico [43] observed\\nthat Italian students often consumed food supplements with a focus on overall well-being.\\nThey underscored that the respondents’ pursuit of maintaining good health is a priority.\\nLikewise, Kovács [44] found that leisure-time athletes primarily took supplements as a\\nproactive measure to maintain their health. These findings collectively highlighted the\\ntrend of individuals engaging in behaviors aimed at improving their health. Therefore, the\\nfollowing could be hypothesized:\\nH5. Health motivation has a significant direct effect on behavioral intention.\\nYazdanpanah et al. [45] found that the key factor influencing the intention to consume\\norganic food among Iranian young adults is the perceived health benefit. This suggests\\nthat individuals are inclined to choose organic foods due to their perceived health benefits\\nfor both themselves and the environment, thereby increasing the likelihood of choosing\\norganic options. In a similar vein, Saghafi-Asi [46] identified perceived benefits as a robust\\npredictor of weight management behavior, and Shitu [47] reported a positive correlation\\nbetween perceived benefits and preventive behavior against COVID-19. Thus, this study\\nhypothesized the following:\\nH6. Perceived benefit has a significant direct effect on behavioral intention.\\nPerceived barriers, on the other hand, are the beliefs that carrying out a behavior is\\nrestricted due to psychosocial, physical, or financial factors. When assessing the predictors\\nof the intention to receive the COVID-19 vaccine, low perceived barriers were an important\\npredictor of a definite intention to take the vaccine [48]. Bhandari [49] found that perceived\\nbarriers negatively affected the safety behaviors of farmers to use safer pesticides and\\nadhere to safety behaviors; the findings indicated that educational programs and training\\nwere advised to mitigate the effect of these perceived barriers. Similarly, Pinho et al. [50]\\nfound that perceived barriers also had a significant effect on healthy eating. This suggests\\nthat individuals’ decision to carry out behaviors that positively affect health are significantly\\naffected by perceived barriers. To which, this study hypothesized the following:\\nH7. Perceived barriers have a significant direct effect on behavioral intention.\\nSelf-efficacy is one’s belief in being able to succeed in any task that they are given.\\nThis trait can be general or specific, allowing individuals to have a range of self-efficacy\\nabout themselves [51]. Upon investigating the relationship between dietary supplements\\nand the general self-efficacy levels of athletes, the findings showed that athletes with\\nlower self-efficacy tend to consume more supplements [52]. Broelz et al. [53] found that\\ngiving athletes a supplement with high salience caused them to work harder than products\\nwith low salience, underscoring the psychological benefit of supplements. Another study\\nfocused on ergogenic supplements’ effects on the performance of cycling athletes; they\\nhad a positive effect on the speed and endurance of the cyclists [54]. Similarly, López-\\nTorres et al. [55] discovered that the consumption of ergogenic supplements aided in\\nthe performance of female athletes and enhanced their efficacy to reach specific physical'),\n",
       " Document(metadata={'producer': 'iLovePDF', 'creator': '', 'creationdate': '', 'source': './rag-dataset/gym supplements/1. Analysis of Actual Fitness Supplement.pdf', 'file_path': './rag-dataset/gym supplements/1. Analysis of Actual Fitness Supplement.pdf', 'total_pages': 15, 'format': 'PDF 1.7', 'title': '', 'author': '', 'subject': '', 'keywords': '', 'moddate': '2024-10-21T11:38:50+00:00', 'trapped': '', 'modDate': 'D:20241021113850Z', 'creationDate': '', 'page': 5}, page_content='Foods 2024, 13, 1424\\n6 of 21\\nneeds and goals. In addition, Gacek [56] investigated the determinants of nutritional\\nchoices of Polish handball players; it was found that self-efficacy and the consumption of\\nvegetables are positively correlated, thus indicating their belief in achieving specific goals.\\nEncompassing those associated with both health and sports, it underscores the importance\\nof a rational nutritional model. Thus, the following was hypothesized:\\nH8. Self-efficacy significantly affects automatic precursors.\\nH9. Self-efficacy significantly affects controlled precursors.\\nFor the precursors, TEMPA explains why individuals aspiring to engage in physical\\nactivity may not do so [57]. The framework considers both the automatic reactions triggered\\nby physical activity cues and the inherent desire to avoid exerting too much physical\\neffort. This explains that a person’s movements are swayed by automatic and controlled\\nprecursors. These precursors are triggered by the cues related to the movement, and how\\nindividuals feel about these cues was also said to affect the perceived effort that is needed\\nto perform the movement [58]. For these precursors to be effective and drive an individual\\nto engage in physical activity, the precursors supporting the intention should outweigh\\nthe negative precursors that reduce effort [28]. Ong et al. [24] exhibited that health and\\nwell-being are preceded by a person’s self-efficacy and its increase, which also increases\\ntheir behavioral intention. Thus, the following was theorized:\\nH10. Automatic precursors have a significant direct effect on behavioral intention.\\nH11. Controlled precursors have a significant direct effect on behavioral intention.\\nGoulet et al. [59] investigated the predictors of the use of performance-enhancing\\ndrugs (PED) among young athletes. To which, their study presented that all behavioral\\nfactors had a positive influence on behavioral intention. The results of the study suggested\\nthat psychosocial factors had a significant effect on their use of PEDs. In another study,\\nSamoggia and Rezzaghi [60] investigated the effect of the consumption of products that\\ncontain caffeine on sports performance. Behavioral intention was the dependent variable\\nin the study, presenting a positive outcome from the consumption of the products. Fur-\\nthermore, in a study investigating the role of education on the use of energy supplements,\\nMehri et al. [61] found that behavioral intention had the most significant impact. Educa-\\ntional interventions lowered the behavioral intention of the participants, which ultimately\\ndecreased the intake of the supplements. Relating to the positive results of studies, the\\nstudy hypothesized the following:\\nH12. Behavioral intention has a significant direct effect on the actual consumption of fitness supplements.\\n3. Methodology\\nParticipants\\nThe questionnaire was voluntarily answered by 250 respondents and was collected via\\na purposive sampling technique. The data collection period started in November 2023 and\\nfinished in February 2024, and respondents were composed of individuals residing in the\\nPhilippines who consume any kind of fitness supplement. The responses were gathered\\nthrough Google Forms and were answered in face-to-face interviews among gym-goers.\\nTable 1 shows the descriptive statistics of the demographic profiles of the respondents.\\nA total of 57.6% are male, while 42.4% are female. The respondents’ age ranges were\\n15–24 (74.8%), 25–34 (20.4%), 35–44 (3.6%), 45–54 (0.8%), and 55–64 years old (0.4%). The\\nrespondents’ educational status consists of 1.60% junior high school graduates, 55.2% senior\\nhigh school graduates, 2.8% vocational graduates, 39.6% college graduates, and 0.8% master’s\\ndegree graduates. Moreover, the respondents’ employment status was asked, and it showed\\nthat 70% are students, 2.4% are unemployed, and 27.6% are employed/self-employed.'),\n",
       " Document(metadata={'producer': 'iLovePDF', 'creator': '', 'creationdate': '', 'source': './rag-dataset/gym supplements/1. Analysis of Actual Fitness Supplement.pdf', 'file_path': './rag-dataset/gym supplements/1. Analysis of Actual Fitness Supplement.pdf', 'total_pages': 15, 'format': 'PDF 1.7', 'title': '', 'author': '', 'subject': '', 'keywords': '', 'moddate': '2024-10-21T11:38:50+00:00', 'trapped': '', 'modDate': 'D:20241021113850Z', 'creationDate': '', 'page': 6}, page_content='Foods 2024, 13, 1424\\n7 of 21\\nTable 1. Demographic profile.\\nFactor\\nCharacteristics\\nN\\n%\\nsex\\nmale\\n144\\n57.6\\nfemale\\n106\\n42.4\\nage\\n15–24 years old\\n187\\n74.8\\n25–34 years old\\n51\\n20.4\\n35–44 years old\\n9\\n3.6\\n45–54 years old\\n2\\n0.8\\n55–64 years old\\n1\\n0.4\\n64 years old and older\\n0\\n0.0\\neducation attainment\\nelementary\\n0\\n0.0\\njunior high school\\n4\\n1.6\\nsenior high school\\n138\\n55.2\\nvocational\\n7\\n2.8\\ncollege\\n99\\n39.6\\nmaster’s degree\\n2\\n0.8\\nPh.D.\\n0\\n0.0\\nemployment status\\nstudent\\n175\\n70.0\\nunemployed\\n6\\n2.4\\nemployed/self-employed\\n69\\n27.6\\nmonthly income/allowance\\nless than 15,000 Php\\n156\\n58.4\\n15,000–30,000 Php\\n52\\n20.8\\n30,001–45,000 Php\\n22\\n8.8\\n45,001–60,000 Php\\n16\\n6.0\\nmore than 60,000 Php\\n15\\n6.0\\nperiod of consumption of fitness supplements\\nless than 1 year\\n140\\n56.0\\n1–2 years\\n72\\n28.8\\n2–3 years\\n19\\n7.6\\nmore than 3 years\\n19\\n7.6\\nplaces of purchase\\npharmacies\\n26\\n10.4\\nfitness centers\\n14\\n5.6\\nsupplement stores\\n69\\n27.6\\ninternet/online shopping\\n138\\n55.2\\nOther\\n3\\n1.2\\nprice\\nless than 1000 Php\\n99\\n39.6\\n1001–2000 Php\\n101\\n40.4\\ngreater than 2000 Php\\n50\\n20\\nThe survey instrument (Appendix A) encompasses five aspects of respondents’ per-\\nspectives toward fitness supplement consumption. Initially, Table 1 presents the respon-\\ndents’ demographic profile. Consequently, the Theory of Planned Behavior (TPB) frame-\\nwork consisting of three latent variables assessed the respondents’ attitude, subjective\\nnorms, and perceived behavioral control toward their consumption of fitness supplements.\\nFollowed by this, the Health Belief Model (HBM) framework consisting of four latent\\nvariables assessed the perceived effectiveness, perceived benefits, perceived barriers, and\\nhealth motivation of the respondents. The Theory of Effort Minimization in Physical Ac-\\ntivity (TEMPA) framework involves another three latent variables, including self-efficacy,\\nautomatic precursors, and controlled precursors. The final section of the questionnaire\\ngauged the behavioral intention and actual consumption patterns of the respondents. In\\ntotality, the questionnaire comprises 12 latent variables, utilizing a 5-point Likert scale\\nranging from 1 as “Strongly Disagree” to 5 as “Strongly Agree”.\\nTo measure factors affecting actual consumption, the Structural Equation Modeling\\n(SEM) was applied in this study using SMART PLS v3.0. According to Ampofo and\\nAidoo [62], SEM is a prominently used multivariate tool for assessing the direct and\\nindirect relationships between latent variables. The theory simplifies the relationships'),\n",
       " Document(metadata={'producer': 'iLovePDF', 'creator': '', 'creationdate': '', 'source': './rag-dataset/gym supplements/1. Analysis of Actual Fitness Supplement.pdf', 'file_path': './rag-dataset/gym supplements/1. Analysis of Actual Fitness Supplement.pdf', 'total_pages': 15, 'format': 'PDF 1.7', 'title': '', 'author': '', 'subject': '', 'keywords': '', 'moddate': '2024-10-21T11:38:50+00:00', 'trapped': '', 'modDate': 'D:20241021113850Z', 'creationDate': '', 'page': 7}, page_content='Foods 2024, 13, 1424\\n8 of 21\\nby constructing a path model to depict the effects resulting from the latent variables.\\nWathanakom [63] utilized SEM to assess the factors influencing Generation Y consumers’\\nvitamin and nutritional supplement purchasing intentions. The outcome of the study\\noutlined the direct and indirect effects of the various factors, and their approach was\\nsaid to be valuable to design campaigns to increase awareness about the significance of\\nvitamins and nutritional supplements, aiding consumers in selecting the suitable supple-\\nments for purchase. In addition, Nystrand and Olsen [64] investigated the intention of\\nconsumption toward functional foods with an extended TPB model; their results enhanced\\ninsight into consumer motivation for functional food consumption and suggested potential\\nbenefits for the food industry. Moreover, the SEM results supported hypotheses related\\nto predictors of intention and consumption frequency for functional foods, highlighting\\nthe importance of self-efficacy, attitudes, social norms, and control beliefs in consumers’\\ndecision-making processes.\\n4. Results\\nThe initial structural equation model (SEM) illustrating the factors influencing the\\nintention to consume fitness supplements is represented in Figure 2. The indicators of\\nlatent variables serve as measures to gauge the validity of the relationship between ob-\\nserved data and the underlying construct. The survey questionnaire allows respondents to\\nself-evaluate the significance of factors that affect their behavioral intention to consume\\nfitness supplements. This model indicates whether an indicator affects and influences an\\nindividual’s intention.\\n \\nFigure 2. Initial Structural Equation Model to assess behavioral intention and actual consumption of\\nfitness supplements.\\nTable 2 displays the reliability and validity values for the final model. Not all factor\\nloadings sufficiently capture the latent variability. Therefore, items with initial loading'),\n",
       " Document(metadata={'producer': 'iLovePDF', 'creator': '', 'creationdate': '', 'source': './rag-dataset/gym supplements/1. Analysis of Actual Fitness Supplement.pdf', 'file_path': './rag-dataset/gym supplements/1. Analysis of Actual Fitness Supplement.pdf', 'total_pages': 15, 'format': 'PDF 1.7', 'title': '', 'author': '', 'subject': '', 'keywords': '', 'moddate': '2024-10-21T11:38:50+00:00', 'trapped': '', 'modDate': 'D:20241021113850Z', 'creationDate': '', 'page': 8}, page_content='Foods 2024, 13, 1424\\n9 of 21\\nvalues that were less than 0.7 were extracted from the final loading. Chronbach’s apla\\n(α), composite reliability (CR), and the average variance extracted (AVE) are then used to\\nmeasure the internal consistency, reliability, and validity. Additionally, the cutoff value for\\nthe convergent validity of the AVE should be higher than 0.5. All values made the cutoff,\\nwhich indicates consistency and reliability across the test item sample. This implies that\\neach construct from this model may be classified as valid and reliable. Presented in Figure 3\\nis the final SEM for this study.\\nTable 2. Lower-order construct validity and reliability.\\nConstruct\\nItems\\nMean\\nStD\\nInitial IL\\nFinal FL\\nCA\\nCR\\nAVE\\nattitude (A)\\nA1\\n4.2\\n0.8\\n0.8\\n0.8\\n0.8\\n0.9\\n0.6\\nA2\\n3.6\\n1.1\\n0.8\\n0.8\\nA3\\n3.9\\n1.0\\n0.8\\n0.8\\nsubjective norms (SN)\\nSN1\\n3.3\\n1.2\\n0.5\\n-\\n-\\n-\\n-\\nSN2\\n3.1\\n1.2\\n0.6\\n-\\nSN3\\n3.8\\n1.0\\n0.8\\n-\\nSN4\\n3.7\\n1.1\\n0.8\\n-\\nperceived behavioral\\ncontrol (PBC)\\nPBC1\\n4.5\\n0.8\\n0.7\\n0.7\\n0.8\\n0.9\\n0.6\\nPBC2\\n4.3\\n0.9\\n0.8\\n0.8\\nPBC3\\n4.2\\n0.9\\n0.8\\n0.8\\nPBC4\\n4.3\\n0.9\\n0.8\\n0.8\\nperceived\\neffectiveness (PE)\\nPE1\\n4.4\\n0.7\\n0.8\\n-\\n-\\n-\\n-\\nPE2\\n3.2\\n1.2\\n0.6\\n-\\nPE3\\n3.4\\n1.1\\n0.7\\n-\\nPE4\\n3.7\\n1.1\\n0.7\\n-\\nperceived benefits (PBE)\\nPBE1\\n3.3\\n1.1\\n0.7\\n-\\nPBE2\\n3.8\\n1.0\\n0.8\\n-\\n-\\n-\\n-\\nPBE3\\n3.8\\n1.0\\n0.8\\n-\\nPBE4\\n4.2\\n0.9\\n0.8\\n-\\nperceived barriers (PBA)\\nPBA1\\n2.8\\n1.3\\n0.5\\n-\\n-\\n-\\n-\\nPBA2\\n3.7\\n1.1\\n0.2\\n-\\nPBA3\\n3.0\\n1.4\\n0.5\\n-\\nPBA4\\n2.4\\n1.3\\n0.9\\n-\\n-\\n-\\n-\\nPBA5\\n2.0\\n1.2\\n0.9\\n-\\nhealth motivation (HM)\\nHM1\\n3.8\\n1.0\\n0.7\\n-\\n0.8\\n0.9\\n0.7\\nHM2\\n4.1\\n1.1\\n0.7\\n-\\n-\\n-\\n-\\nHM3\\n4.2\\n0.9\\n0.8\\n0.8\\nHM4\\n4.2\\n0.9\\n0.8\\n0.8\\n-\\n-\\n-\\nHM5\\n4.2\\n0.9\\n0.8\\n0.8\\nself-efficacy (SE)\\nSE1\\n4.2\\n0.9\\n0.9\\n0.9\\n0.9\\n0.9\\n0.6\\nSE2\\n4.2\\n0.9\\n0.8\\n0.8\\n-\\n-\\n-\\nSE3\\n4.2\\n0.9\\n0.8\\n0.8\\n-\\n-\\n-\\nSE4\\n4.2\\n0.9\\n0.8\\n0.8\\n-\\n-\\n-\\nSE5\\n4.1\\n0.9\\n0.7\\n0.7\\nautomatic\\nprecursors (AP)\\nAP1\\n4.2\\n0.8\\n0.9\\n0.9\\n0.8\\n0.9\\n0.7\\nAP2\\n4.0\\n1.0\\n0.8\\n0.8\\n-\\n-\\n-\\nAP3\\n4.0\\n0.9\\n0.9\\n0.9\\ncontrolled\\nprecursors (CP)\\nCP1\\n4.4\\n0.8\\n0.7\\n0.7\\n0.8\\n0.9\\n0.6\\nCP2\\n4.4\\n0.8\\n0.8\\n0.8\\n-\\n-\\n-\\nCP3\\n4.3\\n0.8\\n0.8\\n0.8\\n-\\n-\\n-\\nCP4\\n4.1\\n0.9\\n0.8\\n0.8\\n-\\n-\\n-\\nCP5\\n4.6\\n0.7\\n0.7\\n0.7'),\n",
       " Document(metadata={'producer': 'iLovePDF', 'creator': '', 'creationdate': '', 'source': './rag-dataset/gym supplements/1. Analysis of Actual Fitness Supplement.pdf', 'file_path': './rag-dataset/gym supplements/1. Analysis of Actual Fitness Supplement.pdf', 'total_pages': 15, 'format': 'PDF 1.7', 'title': '', 'author': '', 'subject': '', 'keywords': '', 'moddate': '2024-10-21T11:38:50+00:00', 'trapped': '', 'modDate': 'D:20241021113850Z', 'creationDate': '', 'page': 9}, page_content='Foods 2024, 13, 1424\\n10 of 21\\nTable 2. Cont.\\nConstruct\\nItems\\nMean\\nStD\\nInitial IL\\nFinal FL\\nCA\\nCR\\nAVE\\nbehavioral intention (BI)\\nBI1\\n3.7\\n1.2\\n0.8\\n0.8\\n0.8\\n0.9\\n0.6\\nBI2\\n4.0\\n1.0\\n0.8\\n0.8\\n-\\n-\\n-\\nBI3\\n4.3\\n0.8\\n0.7\\n0.7\\n-\\n-\\n-\\nBI4\\n4.1\\n0.9\\n0.8\\n0.8\\nactual consumption (AC)\\nAC1\\n4.2\\n0.9\\n0.8\\n0.8\\n0.8\\n0.9\\n0.7\\nAC2\\n4.1\\n0.9\\n0.8\\n0.8\\n-\\n-\\n-\\nAC3\\n4.1\\n0.9\\n0.8\\n0.8\\n-\\n-\\n-\\nAC4\\n4.2\\n0.8\\n0.8\\n0.8\\nNote: StD—standard deviation; AVE—average variance extracted; CA—Chronbach’s alpha; CR—composite\\nreliability; IL—initial loading; FL—final loading; A—attitude; SN—subjective norms; PBC—perceived behav-\\nioral control; PE—perceived effectiveness; PBE—perceived benefits; PBA—perceived barriers; HM—health\\nmotivation; SE—self-efficacy; AP—automatic precursors; CP—controlled precursors; BI—behavioral intention;\\nAC—actual consumption.\\n \\nFigure 3. Final structural equation model.\\nIn Table 3, the discriminant validity includes both the Fornell–Larcker criterion and the\\nheterotrait–monotrait ratio. It illustrates the correlation between each latent variable and\\nevaluates the structural model [65]. As suggested, the threshold value for the HTMT ratio\\nshould be less than 1 (<1) indicating a correlation between two latent variables. However,\\nif the ratio is greater than 1, a lack of discriminant validity is evident. Hence, the authors\\nrecommend a HTMT ratio lower than 0.85 or 0.90 for constructs to avoid overlap. As shown\\nin Table 4, the HTMT ratio fell within the desired threshold.\\nTable 4 shows the model fit indices conducted to illustrate the proposed model’s\\nreliability. The table indicates that all parameter estimates met the suggested cutoff, rep-\\nresenting the suitability of the suggested model. The values of d_ULS and d_G were\\n1.205 and 5.316, respectively. With this, the results reflected excellent batch between the\\ndata and measurement model, indicating that the model’s quality is suitable to explain the\\ndata (Table 5).'),\n",
       " Document(metadata={'producer': 'iLovePDF', 'creator': '', 'creationdate': '', 'source': './rag-dataset/gym supplements/1. Analysis of Actual Fitness Supplement.pdf', 'file_path': './rag-dataset/gym supplements/1. Analysis of Actual Fitness Supplement.pdf', 'total_pages': 15, 'format': 'PDF 1.7', 'title': '', 'author': '', 'subject': '', 'keywords': '', 'moddate': '2024-10-21T11:38:50+00:00', 'trapped': '', 'modDate': 'D:20241021113850Z', 'creationDate': '', 'page': 10}, page_content='Foods 2024, 13, 1424\\n11 of 21\\nTable 3. Discriminant validity.\\nFornell–Lacker Criterion\\nAP\\nAC\\nA\\nBI\\nCP\\nHM\\nPBC\\nSE\\nAP\\n0.846\\n-\\n-\\n-\\n-\\n-\\n-\\n-\\nAC\\n0.691\\n0.829\\n-\\n-\\n-\\n-\\n-\\n-\\nA\\n0.591\\n0.614\\n0.795\\n-\\n-\\n-\\n-\\n-\\nBI\\n0.634\\n0.747\\n0.66\\n0.777\\n-\\n-\\n-\\n-\\nCP\\n0.666\\n0.741\\n0.587\\n0.682\\n0.762\\n-\\n-\\n-\\nHM\\n0.615\\n0.738\\n0.583\\n0.669\\n0.647\\n0.825\\n-\\n-\\nPBC\\n0.533\\n0.565\\n0.595\\n0.565\\n0.563\\n0.536\\n0.784\\n-\\nSE\\n0.717\\n0.727\\n0.656\\n0.73\\n0.705\\n0.676\\n0.597\\n0.799\\nHeterotrait-Monotrait Ratio\\nAP\\nAC\\nA\\nBI\\nCP\\nHM\\nPBC\\nSE\\nAP\\n-\\n-\\n-\\n-\\n-\\n-\\n-\\n-\\nAC\\n0.837\\n-\\n-\\n-\\n-\\n-\\n-\\n-\\nA\\n0.72\\n0.722\\n-\\n-\\n-\\n-\\n-\\n-\\nBI\\n0.804\\n0.812\\n0.809\\n-\\n-\\n-\\n-\\n-\\nCP\\n0.804\\n0.819\\n0.68\\n0.836\\n-\\n-\\n-\\n-\\nHM\\n0.776\\n0.811\\n0.709\\n0.843\\n0.795\\n-\\n-\\n-\\nPBC\\n0.643\\n0.662\\n0.687\\n0.697\\n0.684\\n0.655\\n-\\n-\\nSE\\n0.844\\n0.848\\n0.767\\n0.771\\n0.822\\n0.82\\n0.697\\n-\\nTable 4. Model fit indices.\\nParameters\\nEstimates\\nSuggested Cutoff\\nReference\\nSRMR\\n0.068\\n<0.08\\nHu and Bentler [66]\\nChi-Square\\n3.400\\n<5.00\\nHooper et al. [67]\\nNFI\\n0.921\\n>0.90\\nBaumgartner and Homburg [68]\\nTable 5. Hypothesis results.\\nHypothesis\\nRelationship\\nβ-Values\\nρ-Values\\nDecision\\n1\\nattitude →behavioral intention\\n0.257\\n<0.001\\naccept\\n2\\nsubjective norms →behavioral intention\\n0.021\\n0.688\\nreject\\n3\\nperceived behavioral control →behavioral intention\\n0.193\\n0.004\\naccept\\n4\\npercevied effectiveness →behavioral intention\\n−0.057\\n0.429\\nreject\\n5\\nhealth motivation →behavioral intention\\n0.307\\n<0.001\\naccept\\n6\\nperceived benefits →behavioral intention\\n0.087\\n0.214\\nreject\\n7\\nperceived barriers →behavioral intention\\n−0.018\\n0.717\\nreject\\n8\\nself-efficacy →automatic precursors\\n0.717\\n<0.001\\naccept\\n9\\nself-efficay →controlled precursors\\n0.705\\n<0.001\\naccept\\n10\\nautomatic precursors →behavioral intention\\n0.107\\n0.206\\nreject\\n11\\ncontrolled precursors →behavioral intention\\n0.272\\n<0.001\\naccept\\n12\\nbehavioral intention →actual consumption\\n0.747\\n<0.001\\naccept\\n5. Discussion\\nFitness supplements are products designed to complement a person’s diet and exercise\\nroutine, with the aim of enhancing various aspects of health, fitness, or performance.\\nThe purpose of this study was to investigate the factors that influence the consumption\\nof fitness supplements. A total of 250 individuals answered the online questionnaire,\\nwhich accounted for 12 latent variables that were integrated from the Theory of Planned\\nBehavior (TPB), the Health Belief Motivation (HBM) framework, and the Theory of Effort\\nMinimization in Physical Activity (TEMPA) framework.\\nAttitude was seen to have a significant effect on behavioral intention to consume\\nfitness supplements (β: 0.257; p < 0.001). Based on the established constructs, consumers'),\n",
       " Document(metadata={'producer': 'iLovePDF', 'creator': '', 'creationdate': '', 'source': './rag-dataset/gym supplements/1. Analysis of Actual Fitness Supplement.pdf', 'file_path': './rag-dataset/gym supplements/1. Analysis of Actual Fitness Supplement.pdf', 'total_pages': 15, 'format': 'PDF 1.7', 'title': '', 'author': '', 'subject': '', 'keywords': '', 'moddate': '2024-10-21T11:38:50+00:00', 'trapped': '', 'modDate': 'D:20241021113850Z', 'creationDate': '', 'page': 11}, page_content='Foods 2024, 13, 1424\\n12 of 21\\nfind spending money on fitness supplements worthwhile and useful. This implies that\\nconsumers benefit from investing in fitness supplements and emphasize the importance\\nand value of them. This is similar to the findings in the study by Liu [34], which highlighted\\nattitude as a significant factor affecting the intention to consume supplements because\\nconsumers see purchasing supplements as a sensible and helpful choice for them. In\\nanother study, Wathanakom [66] showed that individuals who perceive gym supplements\\npositively or associate them with health benefits or improved fitness are more inclined to\\nconsider using them.\\nSubjective norms were observed to have an insignificant impact on the behavioral\\nintention to consume fitness supplements (β: 0.021; p = 0.688). This indicates that the\\ndecision of individuals to purchase and consume fitness supplements is a choice based on\\ntheir own will and does not adhere to, nor is it influenced by, the standards or insights\\nof other individuals, whether it be people important to them or celebrities who endorse\\nthe supplements. This result is aligned with the findings of Kitcharoen and Vongurai [69],\\nwhose findings indicate that subjective norms did not have any direct influence on be-\\nhavioral intention to consume dietary supplements. It underscored how international\\ncompanies appoint social media influencers as their brand ambassadors in the hopes that\\nthese brand ambassadors will foster a positive outlook on dietary supplements, supposedly\\nincreasing an individual’s inclination to use dietary supplements. However, it contrasts\\nwith the studies by Alami [32], which underscored that the influence of friends, parents,\\nand teachers was significant in dietary behavior toward iron and vitamin D, as they served\\nas role models and provided social support. Moreover, Haubenstricker et al. [34], found\\nthat bodybuilders in in-season competitions are influenced by those around them, including\\ntrainers, workout partners, and social media influencers.\\nMeanwhile, perceived behavioral control significantly affected behavioral intention,\\nas well (β: 0.193; p = 0.004). Consumers exhibit a sense of control and ease over the con-\\nsumption of fitness supplements, viewing it as manageable and straightforward. Moreover,\\nthis indicates the voluntary nature of this choice, highlighting the individual’s sense of\\ncontrol and decision-making. This is consistent with the findings of Chen et al. [36], which\\nfound that perceived behavioral control was a significant driver in the intention to consume\\nvitamin D supplements, because individuals are more likely to engage in the consumption\\nof supplements if they find it easy to perform, and that past experiences with supplemen-\\ntation shapes perceived behavioral control, where positive experiences boost confidence\\nand negative ones create doubts. Additionally, Lino [35] also found that perceived be-\\nhavioral control had a significant impact on the intention to use dietary supplements; the\\nfindings indicated that individuals with a greater sense of control over the use of dietary\\nsupplements demonstrated stronger intentions to use them. This suggests that individuals\\nwho felt more in control of their treatment were more likely to express positive beliefs\\nand intentions regarding the use of dietary supplements. This is contrary to the findings\\nof Al-Swidi et al. [70], whose results indicated that perceived behavioral control had no\\nsignificant effect on the purchase intention of organic foods; the lack of significance of\\nperceived behavioral control in predicting organic food buying intentions in this study is\\nattributed to a combination of cultural factors, dependence on subjective norms, and the\\nemerging nature of the concept in the studied population.\\nIn this study, perceived effectiveness was found to have an insignificant effect on\\nbehavioral intention (β: −0.057; p = 0.429). Based on the constructs, this indicates that\\nconsumers do not deem fitness supplements as mandatory. The responses implied a\\nfrail view regarding the importance of using supplements for well-being, energy levels,\\nand daily performance. These findings are similar to Burke and Manore [71], which\\nstated that individuals whose diets provide adequate energy and nutrients can support\\nexercise performance and maintain nutritional intake without the need for supplements.\\nFurthermore, Jordan et al. [72] stated that micronutrient supplements are not mandatory\\nfor athletes who consume nutrient-dense food that provide high levels of energy, further\\nhighlighting the optionality of supplements. These results contrast those of Bussicott'),\n",
       " Document(metadata={'producer': 'iLovePDF', 'creator': '', 'creationdate': '', 'source': './rag-dataset/gym supplements/1. Analysis of Actual Fitness Supplement.pdf', 'file_path': './rag-dataset/gym supplements/1. Analysis of Actual Fitness Supplement.pdf', 'total_pages': 15, 'format': 'PDF 1.7', 'title': '', 'author': '', 'subject': '', 'keywords': '', 'moddate': '2024-10-21T11:38:50+00:00', 'trapped': '', 'modDate': 'D:20241021113850Z', 'creationDate': '', 'page': 12}, page_content='Foods 2024, 13, 1424\\n13 of 21\\net al. [73], who found that perceived effectiveness played a significant effect in shaping the\\nusage patterns of complementary medicine (CM) products. The reliance on information\\nfrom family and friends, coupled with the occurrence of adverse effects in more than\\nhalf of the participants, underscores the impact of perceived effectiveness on consumer\\nchoices. Despite potential risks and limited clinical evidence, CM weight-loss products\\nwere perceived as accessible, safe, and cost-effective.\\nPerceived benefits were seen to have an insignificant effect on behavioral intention\\n(β: −0.018; p = 0.717). Thus, respondents do not perceive the consistent intake of gym\\nsupplements as a preventive measure against health-related issues, which aligns with how\\nconsuming these supplements does not aid in building good health or contribute to an\\nindividual’s well-being. These findings are consistent with the study by Kiely et al. [74],\\nwhich investigated the health behaviors of individuals during the pandemic. It was found\\nthat perceived benefit had no statistical significance toward a change in exercise behavior;\\nindividuals’ perceptions of the benefits of exercise did not strongly correlate with their\\nactual exercise behavior changes. This implies that, at least in the context of the studied\\npopulation during the pandemic, people were more influenced by perceived barriers than\\nby their beliefs in the positive outcomes of exercise. Similarly, Rodrigues [58] stated that\\nindividuals consumed fitness supplements with the goal of gaining muscle, improving\\nrecovery, and enhancing performance. None have a correlation with health, as fitness\\nsupplements are not mandatory and are not endorsed to aid in the treatment of any health-\\nrelated issue. These results contrast with the findings of Ghai and Sharma [75], who\\nfound that perceived benefits, alongside trust, shaped satisfaction and the intention to\\npurchase organic food. Consumers who perceive benefits and have trust in organic foods\\nare more likely to express a willingness to pay premium prices and experience higher\\nsatisfaction levels. This is similar with the findings of Hoseini et al. [76], in which perceived\\nbenefits significantly affected the consumption of dietary supplements, with individuals\\nincorporating these products into their routines for various reasons. The desire for fitness,\\nphysical beauty, and skin health, alongside the intention to fill nutritional gaps and alleviate\\nthe side effects of micronutrient deficiencies, drives individuals to use supplements.\\nMoreover, health motivation significantly affected behavioral intention (β: 0.307;\\np < 0.001). Based on the constructs, respondents consume fitness supplements with mul-\\ntiple goals in mind, including increasing muscle mass, enhancing performance in fitness\\nactivities, meeting nutritional needs, and supporting the maintenance or initiation of a\\nhealthy lifestyle. They view fitness supplements as versatile tools with a range of posi-\\ntive impacts. The diverse reasons for consumption suggest a comprehensive approach\\nto health, encompassing not only physical well-being but also performance and lifestyle\\nconsiderations. Additionally, they see fitness supplements as instrumental in achieving\\nvarious health-related objectives, from muscle building and performance enhancement to\\nnutritional support and the promotion of a sustainable healthy lifestyle. This is aligned\\nwith the results of Sirico [46], which found that the enhancement of sport performance\\nand overall health and wellness are primary motivations for supplement use. Addition-\\nally, Kovács’ [44] study discovered that health preservation and physical well-being were\\nthe primary reasons for taking food supplements due to individual motivations, psy-\\nchological factors, and the recognition of the interconnectedness between nutrition and\\noverall well-being.\\nTehrani [77] found that diabetes patients with a history of CAM use demonstrated\\nfewer barriers to engaging in diabetes self-care behaviors. Therefore, mitigating perceived\\nbarriers increases the probability of an individual to engage in certain behavior. In relation\\nto the study, perceived barriers were seen to have an insignificant impact on behavioral\\nintention (β: −0.018; p = 0.717). The consumers do not express challenges related to ac-\\nquiring and consuming fitness supplements, specifically in terms of distance, cost, limited\\navailability, lack of motivation, and embarrassment as barriers. This indicates that con-\\nsumers have easy access to affordable fitness supplements, either due to the proximity\\nof stores, reasonable pricing, or the availability of cost-effective alternatives. Addition-'),\n",
       " Document(metadata={'producer': 'iLovePDF', 'creator': '', 'creationdate': '', 'source': './rag-dataset/gym supplements/1. Analysis of Actual Fitness Supplement.pdf', 'file_path': './rag-dataset/gym supplements/1. Analysis of Actual Fitness Supplement.pdf', 'total_pages': 15, 'format': 'PDF 1.7', 'title': '', 'author': '', 'subject': '', 'keywords': '', 'moddate': '2024-10-21T11:38:50+00:00', 'trapped': '', 'modDate': 'D:20241021113850Z', 'creationDate': '', 'page': 13}, page_content='Foods 2024, 13, 1424\\n14 of 21\\nally, they feel confident and motivated in their health choices, leading to a more open\\nand positive attitude toward supplement use. This result is consistent with the study by\\nFebian et al. [78], which found that individuals are inclined to consume functional food if\\nthey anticipate fewer barriers, such as difficult preparation and an unpalatable scent.\\nSelf-efficacy was seen to have a significant impact on automatic (β: 0.717; p < 0.001)\\nand controlled precursors (β: 0.705; p < 0.001). Fitness supplements aid in their confidence\\nin different aspects of exercise and achieving their fitness goals. They contribute positively,\\nwhich leads to greater adherence to routines, increased motivation, and overall fitness\\noutcomes. This is consistent with the findings of Zhao et al. [79], which were that self-\\nefficacy influences exercise behavior by boosting confidence in athletic abilities. Higher\\nexercise self-efficacy contributes to a more enjoyable and enduring engagement in physical\\nactivity, fostering a lifelong habit of sports. This has also verified the results of Gacek [56],\\nwhich revealed that individuals with higher self-efficacy engaged in behaviors that promote\\nhealth and enhance physical fitness, and they engaged less in behaviors that are detrimental\\nto their health, such as drinking alcoholic beverages.\\nThe results revealed that controlled precursors have a significant effect toward be-\\nhavioral intention (β: 0.272; p < 0.001), which based on the indicators, were voluntary\\nevaluation of the benefits of the supplements, matching their consumption with proper\\ndiet and exercise, recognizing their usefulness, and acknowledging the value of a healthy\\nlifestyle affect consumers’ intent to engage in activities that are aligned with fitness. This\\nimplies that controlled precursors prompt their intention to consume supplements suggest-\\ning that the precursors outweigh the impact of opposing processes that promote minimal\\neffort [28]. Moreover, controlled precursors are classified as advanced cognitive func-\\ntions, including reflective reasoning, that play a significant role in the decision-making\\nprocess [80]. This indicates that respondents evaluate activities based on the outcomes that\\ncome with performing the activity. This is evident in the study by Jagim et al. [81], which\\nfound that individuals consume pre-workout, which generally contained beta-alanine,\\ncaffeine, and creatine, to make workouts easier and improve their performance.\\nAutomatic precursors were observed to have an insignificant effect on behavioral\\nintention (β: 0.107; p = 0.206). These results suggest that the involuntary cues have little\\ninfluence over decision-making, indicating that respondents rely on conscious evaluation\\nand deliberation when considering whether to consume fitness supplements. They are\\nmore likely to weigh the pros and cons and consider their goals for their consumption [82].\\nThese results are inconsistent with the studies by Rodrigues [58], which found that past\\nbehaviors and autonomous motivation fostered by satisfaction and enjoyment were seen\\nto be significant predictors of future intentions to exercise. This suggests that habitual\\nactions influenced by past experiences may overshadow intentions in predicting future\\nbehavior. The insignificance of automatic precursors is consistent with the nature of\\nthis study because the decision to consume supplements is optional and heavily relies\\non the conscious evaluation aligned with an individual’s personal goals and nutritional\\nneeds. Based on the indicators, the findings depicted how habits and satisfaction from past\\nbehaviors are overshadowed by conscious considerations and external influences.\\nLastly, with behavioral intention as the mediating factor, it was seen to have a signifi-\\ncant role in actual consumption (β: 0.747; p < 0.001); respondents express the willingness to\\ncontinue purchasing fitness supplements and plan to use them to improve their health in\\nthe coming periods. Additionally, they plan to pay attention to the supplements they will\\nconsume and recommend to others. This indicates a positive perception of supplements,\\nwhich is a probable basis for the intention to continuously consume them for improving\\ntheir fitness and endorsing others to consume them, as well. This is consistent with the\\nresults of Nystrand and Olsen [64], which were that consumers’ behavioral intention to\\nconsume functional foods was shaped by factors such as attitude, self-efficacy, and sub-\\njective norms. This suggests that individuals are motivated to consume certain products,\\nas long as they perceive themselves as capable of doing so, and that social pressure from\\nindividuals of importance plays a pivotal role, as well. Moreover, behavioral intention'),\n",
       " Document(metadata={'producer': 'iLovePDF', 'creator': '', 'creationdate': '', 'source': './rag-dataset/gym supplements/1. Analysis of Actual Fitness Supplement.pdf', 'file_path': './rag-dataset/gym supplements/1. Analysis of Actual Fitness Supplement.pdf', 'total_pages': 15, 'format': 'PDF 1.7', 'title': '', 'author': '', 'subject': '', 'keywords': '', 'moddate': '2024-10-21T11:38:50+00:00', 'trapped': '', 'modDate': 'D:20241021113850Z', 'creationDate': '', 'page': 14}, page_content='Foods 2024, 13, 1424\\n15 of 21\\ntoward food supplement safety was shaped by health motivation and attitude in the study\\nby Bayır [83], indicating that positive attitude and concerns about personal health leads to\\nthe consumption of supplements, thereby predicting that supplement use will increase in\\nthe future.\\n6. Conclusions and Implications\\nThe study contributes to existing theories, such as the Theory of Planned Behavior\\n(TPB), Health Belief Motivation (HBM), and Theory of Effort Minimization in Physical\\nActivity (TEMPA), by providing empirical evidence of the factors influencing consumers’\\nintention to consume fitness supplements. This expands the understanding of how psycho-\\nlogical factors shape consumer behavior. The study highlights the importance of health\\nmotivation as the central driver of behavioral intention, suggesting that health-related\\ngoals play a significant role in shaping consumer decisions regarding supplement usage.\\nAdditionally, the study underscores the complexity of consumer decision-making processes,\\ndemonstrating the interplay between cognitive evaluation, self-efficacy, and automatic\\nprecursors in influencing behavioral intention. Through theoretical constructs discussed,\\nthe study provides a foundation for further research into the underlying mechanisms\\ndriving consumer behavior in the fitness supplement market, ultimately advancing the\\ntheoretical understanding of consumer decision-making.\\nThe findings of the study can be significant for the fitness supplement industry. Firstly,\\ncompanies should prioritize marketing efforts that highlight the benefits and ease of use of\\ntheir products, emphasizing factors such as effectiveness, convenience, and affordability to\\nappeal to consumers. Secondly, understanding the strong influence of health motivation,\\ncompanies can tailor their product offerings and marketing to align with consumers’ health\\ngoals and aspirations, thus enhancing the perceived value of their supplements. Thirdly,\\neducational interventions are crucial to address any misconceptions regarding supplement\\nusage, providing evidence-based information to build consumer trust and confidence.\\nAdditionally, companies can invest in strategies to enhance consumer self-efficacy, such\\nas providing resources and support to help consumers make informed decisions about\\nsupplement usage. Overall, by focusing on these managerial implications, companies can\\nbetter meet the needs and preferences of consumers, driving sales and fostering long-term\\nbrand loyalty in the competitive fitness supplement market. Future research may opt to\\nconsider more respondents as gaining more diverse demographic context, insights, and\\nperception, which may lead to other findings.\\nAuthor Contributions: Conceptualization, P.R.E., A.K.S.O., J.D.G., M.J.J.G. and E.S.C.; methodology,\\nP.R.E., A.K.S.O., J.D.G., M.J.J.G. and E.S.C.; software, P.R.E., A.K.S.O., J.D.G. and M.J.J.G.; validation,\\nP.R.E., A.K.S.O., J.D.G., M.J.J.G. and E.S.C.; formal analysis, P.R.E. and A.K.S.O.; investigation, P.R.E.,\\nA.K.S.O. and J.D.G.; resources, P.R.E., A.K.S.O., J.D.G., M.J.J.G. and E.S.C.; data curation, P.R.E.,\\nA.K.S.O. and J.D.G.; writing—original draft preparation P.R.E., A.K.S.O. and J.D.G.; writing—review\\nand editing, P.R.E., A.K.S.O., J.D.G., M.J.J.G. and E.S.C.; visualization, P.R.E., A.K.S.O., J.D.G., M.J.J.G.\\nand E.S.C.; supervision, J.D.G. and A.K.S.O.; project administration, J.D.G., A.K.S.O. and M.J.J.G.;\\nfunding acquisition, J.D.G. and A.K.S.O. All authors have read and agreed to the published version\\nof the manuscript.\\nFunding: This research was funded by Mapua University Directed Research for Innovation and\\nValue Enhancement (DRIVE).\\nInstitutional Review Board Statement: This study was approved by the Mapua University Research\\nEthics Committees (FM-RC-23-01-99).\\nInformed Consent Statement: Informed consent was obtained from all subjects involved in this\\nstudy (FM-RC-23-02-99).\\nData Availability Statement: The data presented in this study are available on request from the\\ncorresponding author. The data are not publicly available due to privacy restrictions.')]"
      ]
     },
     "execution_count": 4,
     "metadata": {},
     "output_type": "execute_result"
    }
   ],
   "source": [
    "docs"
   ]
  },
  {
   "cell_type": "code",
   "execution_count": 5,
   "metadata": {},
   "outputs": [],
   "source": [
    "import os\n",
    "\n",
    "pdfs = []\n",
    "for root, dirs, files in os.walk('rag-dataset'):\n",
    "    # print(root, dirs, files)\n",
    "    for file in files:\n",
    "        if file.endswith('.pdf'):\n",
    "            pdfs.append(os.path.join(root, file))"
   ]
  },
  {
   "cell_type": "code",
   "execution_count": 6,
   "metadata": {},
   "outputs": [],
   "source": [
    "docs = []\n",
    "for pdf in pdfs:\n",
    "    loader = PyMuPDFLoader(pdf)\n",
    "    pages = loader.load()\n",
    "\n",
    "    docs.extend(pages)"
   ]
  },
  {
   "cell_type": "code",
   "execution_count": 7,
   "metadata": {},
   "outputs": [
    {
     "data": {
      "text/plain": [
       "64"
      ]
     },
     "execution_count": 7,
     "metadata": {},
     "output_type": "execute_result"
    }
   ],
   "source": [
    "len(docs)"
   ]
  },
  {
   "cell_type": "markdown",
   "metadata": {},
   "source": [
    "Document Chunking"
   ]
  },
  {
   "cell_type": "code",
   "execution_count": 8,
   "metadata": {},
   "outputs": [],
   "source": [
    "from langchain_text_splitters import RecursiveCharacterTextSplitter\n",
    "\n",
    "\n",
    "text_splitter = RecursiveCharacterTextSplitter(chunk_size=1000, chunk_overlap=100)\n",
    "\n",
    "chunks = text_splitter.split_documents(docs)"
   ]
  },
  {
   "cell_type": "code",
   "execution_count": 10,
   "metadata": {},
   "outputs": [
    {
     "data": {
      "text/plain": [
       "(64, 311)"
      ]
     },
     "execution_count": 10,
     "metadata": {},
     "output_type": "execute_result"
    }
   ],
   "source": [
    "\n",
    "len(docs), len(chunks)"
   ]
  },
  {
   "cell_type": "code",
   "execution_count": 11,
   "metadata": {},
   "outputs": [
    {
     "data": {
      "text/plain": [
       "(4339, 981)"
      ]
     },
     "execution_count": 11,
     "metadata": {},
     "output_type": "execute_result"
    }
   ],
   "source": [
    "len(docs[0].page_content), len(chunks[0].page_content)"
   ]
  },
  {
   "cell_type": "code",
   "execution_count": 12,
   "metadata": {},
   "outputs": [
    {
     "data": {
      "text/plain": [
       "(968, 294)"
      ]
     },
     "execution_count": 12,
     "metadata": {},
     "output_type": "execute_result"
    }
   ],
   "source": [
    "import tiktoken\n",
    "\n",
    "encoding = tiktoken.encoding_for_model(\"gpt-4o-mini\")\n",
    "\n",
    "len(encoding.encode(docs[0].page_content)), len(encoding.encode(chunks[0].page_content))"
   ]
  },
  {
   "cell_type": "markdown",
   "metadata": {},
   "source": [
    "Document Vector Embedding"
   ]
  },
  {
   "cell_type": "code",
   "execution_count": 13,
   "metadata": {},
   "outputs": [],
   "source": [
    "from langchain_ollama import OllamaEmbeddings\n",
    "\n",
    "import faiss\n",
    "from langchain_community.vectorstores import FAISS\n",
    "from langchain_community.docstore.in_memory import InMemoryDocstore"
   ]
  },
  {
   "cell_type": "code",
   "execution_count": 15,
   "metadata": {},
   "outputs": [],
   "source": [
    "embeddings = OllamaEmbeddings(model='nomic-embed-text', base_url=\"http://localhost:11434\")\n",
    "\n",
    "single_vector = embeddings.embed_query(\"this is some text data\")"
   ]
  },
  {
   "cell_type": "code",
   "execution_count": 16,
   "metadata": {},
   "outputs": [
    {
     "data": {
      "text/plain": [
       "768"
      ]
     },
     "execution_count": 16,
     "metadata": {},
     "output_type": "execute_result"
    }
   ],
   "source": [
    "\n",
    "len(single_vector)"
   ]
  },
  {
   "cell_type": "code",
   "execution_count": 17,
   "metadata": {},
   "outputs": [
    {
     "data": {
      "text/plain": [
       "(0, 768)"
      ]
     },
     "execution_count": 17,
     "metadata": {},
     "output_type": "execute_result"
    }
   ],
   "source": [
    "index = faiss.IndexFlatL2(len(single_vector))\n",
    "index.ntotal, index.d\n"
   ]
  },
  {
   "cell_type": "code",
   "execution_count": 18,
   "metadata": {},
   "outputs": [],
   "source": [
    "vector_store = FAISS(\n",
    "    embedding_function=embeddings,\n",
    "    index=index,\n",
    "    docstore=InMemoryDocstore(),\n",
    "    index_to_docstore_id={}\n",
    ")"
   ]
  },
  {
   "cell_type": "code",
   "execution_count": 19,
   "metadata": {},
   "outputs": [
    {
     "data": {
      "text/plain": [
       "311"
      ]
     },
     "execution_count": 19,
     "metadata": {},
     "output_type": "execute_result"
    }
   ],
   "source": [
    "len(chunks)"
   ]
  },
  {
   "cell_type": "code",
   "execution_count": 20,
   "metadata": {},
   "outputs": [],
   "source": [
    "ids = vector_store.add_documents(documents=chunks)"
   ]
  },
  {
   "cell_type": "code",
   "execution_count": 21,
   "metadata": {},
   "outputs": [
    {
     "data": {
      "text/plain": [
       "311"
      ]
     },
     "execution_count": 21,
     "metadata": {},
     "output_type": "execute_result"
    }
   ],
   "source": [
    "vector_store.index_to_docstore_id\n",
    "len(ids)"
   ]
  },
  {
   "cell_type": "code",
   "execution_count": null,
   "metadata": {},
   "outputs": [],
   "source": [
    "# # store vector database\n",
    "# db_name = \"health_supplements\"\n",
    "# vector_store.save_local(db_name)\n",
    "\n",
    "# # load vector database\n",
    "# new_vector_store = FAISS.load_local(db_name, embeddings=embeddings, allow_dangerous_deserialization=True)\n",
    "# len(new_vector_store.index_to_docstore_id)\n"
   ]
  },
  {
   "cell_type": "markdown",
   "metadata": {},
   "source": [
    "Retrival"
   ]
  },
  {
   "cell_type": "code",
   "execution_count": 22,
   "metadata": {},
   "outputs": [
    {
     "name": "stdout",
     "output_type": "stream",
     "text": [
      "acids than traditional protein sources. Its numerous benefits have made it a popular choice\n",
      "for snacks and drinks among consumers [3]. Another widely embraced supplement is\n",
      "caffeine, which is found in many sports and food supplements. Caffeine reduces perceived\n",
      "effort, minimizes fatigue and pain, and proves to be effective for endurance and high-\n",
      "intensity activities, which is the choice of consumers [4].\n",
      "Creatine monohydrate is another well-known supplement used to gain muscle mass\n",
      "and support performance and recovery. It is known not to increase fat mass and remains\n",
      "effective even when taken in recommended doses [5]. Despite its popularity in the fitness\n",
      "Foods 2024, 13, 1424. https://doi.org/10.3390/foods13091424\n",
      "https://www.mdpi.com/journal/foods\n",
      "\n",
      "\n",
      "\n",
      "and strength gain among men. We detected more prevalent protein and creatine supplementation\n",
      "among younger compared to older ﬁtness center users, whereas the opposite was found for vitamin\n",
      "supplementation. Other authors made similar observations [23] and it might reﬂect the diﬀerent\n",
      "training goals among age groups, i.e., more focus on strength and muscles among the younger and\n",
      "more focus on health among the older age groups.\n",
      "Comparable to other studies [4], we detected a positive correlation between training frequency\n",
      "and supplement usage. Nevertheless, the correlation is weak and is deﬁnitely not a predictor at the\n",
      "individual level. The subject with the highest supplement intake of 100 weekly servings was training\n",
      "only once a week.\n",
      "\n",
      "\n",
      "\n",
      "women consuming isoflavone supplements (59) and, given the clear evidence of \n",
      "estrogenicity, there is a likelihood of increased risk of estrogen sensitive cancers in \n",
      "consumers of these products.\n",
      "WEIGHT-LOSS, SPORTS, AND BODYBUILDING SUPPLEMENTS\n",
      "As more and more of the world population becomes overweight and obese, there is a huge \n",
      "market for weight-loss products, including dietary supplements. Among military service \n",
      "members, athletes and bodybuilders it is also common to ingest dietary sports supplements \n",
      "intended to burn fat and increase performance, muscle mass or strength. As examples, 53% \n",
      "of active-duty US Army soldiers report using at least one dietary supplement per week (60), \n",
      "and 64% of college students participating in athletics use dietary supplements to enhance \n",
      "performance (61). The supplements are often proprietary blends of several supposedly \n",
      "natural ingredients. They are not without risk of adverse effects. In a recent review, it is\n",
      "\n",
      "\n",
      "\n",
      "yohimbine, and even amphetamine and its derivatives being found in supplements con-\n",
      "tinues to grow [105,106,127,137]. A US study revealed that 11 out of 21 supplements that\n",
      "contained the Acacia rigidula extract that were purchased on the Internet contained the iso-\n",
      "mer of amphetamine [138]. In South Korea, substances that bore a structural resemblance\n",
      "to amphetamine were found in 10 out of 110 weight loss supplements [139]. In Italy, 28%\n",
      "of the supplements purchased online contained sibutramine or substances only permitted\n",
      "in medicines or their analogs, which had not been tested for toxicology [135]. Apart from\n",
      "weight loss supplements, preparations for muscle building and sexual potency have also\n",
      "been found to be contaminated. International studies indicate that 12–58% of the supple-\n",
      "ments for physically active people contained substances that have previously been banned\n",
      "by the World Anti-Doping Agency [140].\n",
      "\n",
      "\n",
      "\n"
     ]
    }
   ],
   "source": [
    "question = \"what is used to gain muscle mass?\"\n",
    "docs = vector_store.search(query=question, search_type='similarity')\n",
    "\n",
    "for doc in docs:\n",
    "    print(doc.page_content)\n",
    "    print(\"\\n\\n\")"
   ]
  },
  {
   "cell_type": "code",
   "execution_count": 23,
   "metadata": {},
   "outputs": [],
   "source": [
    "retriever = vector_store.as_retriever(search_type=\"mmr\", search_kwargs = {'k': 3, \n",
    "                                                                          'fetch_k': 100,\n",
    "                                                                          'lambda_mult': 1})"
   ]
  },
  {
   "cell_type": "code",
   "execution_count": 24,
   "metadata": {},
   "outputs": [],
   "source": [
    "docs = retriever.invoke(question)\n",
    "\n"
   ]
  },
  {
   "cell_type": "code",
   "execution_count": 29,
   "metadata": {},
   "outputs": [],
   "source": [
    "question = \"what is used to reduce weight?\"\n",
    "# question = \"what are side effects of supplements?\"\n",
    "# question = \"what are the benefits of supplements?\"\n",
    "# question = \"what are the benefits of BCAA supplements?\"\n",
    "docs = retriever.invoke(question)"
   ]
  },
  {
   "cell_type": "markdown",
   "metadata": {},
   "source": [
    "RAG with LLAMA 3.2 on OLLAMA"
   ]
  },
  {
   "cell_type": "code",
   "execution_count": 26,
   "metadata": {},
   "outputs": [],
   "source": [
    "from langchain import hub\n",
    "from langchain_core.output_parsers import StrOutputParser\n",
    "from langchain_core.runnables import RunnablePassthrough\n",
    "from langchain_core.prompts import ChatPromptTemplate\n",
    "\n",
    "from langchain_ollama import ChatOllama"
   ]
  },
  {
   "cell_type": "code",
   "execution_count": 30,
   "metadata": {},
   "outputs": [
    {
     "data": {
      "text/plain": [
       "AIMessage(content='Hello. How can I assist you today?', additional_kwargs={}, response_metadata={'model': 'llama3.2:1b', 'created_at': '2025-03-18T05:31:37.6903466Z', 'done': True, 'done_reason': 'stop', 'total_duration': 4209230600, 'load_duration': 3513208300, 'prompt_eval_count': 26, 'prompt_eval_duration': 292000000, 'eval_count': 10, 'eval_duration': 366000000, 'message': Message(role='assistant', content='', images=None, tool_calls=None)}, id='run-aae8006f-9985-4ecd-9c4b-e1d718436988-0', usage_metadata={'input_tokens': 26, 'output_tokens': 10, 'total_tokens': 36})"
      ]
     },
     "execution_count": 30,
     "metadata": {},
     "output_type": "execute_result"
    }
   ],
   "source": [
    "model = ChatOllama(model=\"llama3.2:1b\", base_url=\"http://localhost:11434\")\n",
    "\n",
    "model.invoke(\"hi\")"
   ]
  },
  {
   "cell_type": "code",
   "execution_count": 31,
   "metadata": {},
   "outputs": [],
   "source": [
    "prompt = hub.pull(\"rlm/rag-prompt\")"
   ]
  },
  {
   "cell_type": "code",
   "execution_count": 32,
   "metadata": {},
   "outputs": [],
   "source": [
    "\n",
    "prompt = \"\"\"\n",
    "    You are an assistant for question-answering tasks. Use the following pieces of retrieved context to answer the question.\n",
    "    If you don't know the answer, just say that you don't know.\n",
    "    Answer in bullet points. Make sure your answer is relevant to the question and it is answered from the context only.\n",
    "    Question: {question} \n",
    "    Context: {context} \n",
    "    Answer:\n",
    "\"\"\"\n",
    "\n",
    "prompt = ChatPromptTemplate.from_template(prompt)"
   ]
  },
  {
   "cell_type": "code",
   "execution_count": 33,
   "metadata": {},
   "outputs": [],
   "source": [
    "def format_docs(docs):\n",
    "    return \"\\n\\n\".join([doc.page_content for doc in docs])\n",
    "\n",
    "# print(format_docs(docs))"
   ]
  },
  {
   "cell_type": "code",
   "execution_count": 34,
   "metadata": {},
   "outputs": [],
   "source": [
    "rag_chain = (\n",
    "    {\"context\": retriever|format_docs, \"question\": RunnablePassthrough()}\n",
    "    | prompt\n",
    "    | model\n",
    "    | StrOutputParser()\n",
    ")"
   ]
  },
  {
   "cell_type": "code",
   "execution_count": 36,
   "metadata": {},
   "outputs": [
    {
     "name": "stdout",
     "output_type": "stream",
     "text": [
      "Here are the bullet points answering the question about what is used to reduce weight:\n",
      "\n",
      "* Weight loss supplements, which typically contain over 4000 individual substances, are often used by as many as 40-50% of young women.\n",
      "* These supplements usually include ingredients like chromium, chitosan, green tea, Garcinia cambogia, and bitter orange (Citrus aurantium) extracts.\n",
      "* The effects of these ingredients on weight reduction have not been shown in scientific studies to be effective for most people, especially when compared to other methods of weight loss.\n"
     ]
    }
   ],
   "source": [
    "# question = \"what is used to gain muscle mass?\"\n",
    "# question = \"what is used to reduce weight?\"\n",
    "# question = \"what are side effects of supplements?\"\n",
    "# question = \"what are the benefits of supplements?\"\n",
    "# question = \"what are the benefits of BCAA supplements?\"\n",
    "\n",
    "question = \"what is used to reduce weight?\"\n",
    "\n",
    "output = rag_chain.invoke(question)\n",
    "print(output)"
   ]
  }
 ],
 "metadata": {
  "kernelspec": {
   "display_name": "Python 3",
   "language": "python",
   "name": "python3"
  },
  "language_info": {
   "codemirror_mode": {
    "name": "ipython",
    "version": 3
   },
   "file_extension": ".py",
   "mimetype": "text/x-python",
   "name": "python",
   "nbconvert_exporter": "python",
   "pygments_lexer": "ipython3",
   "version": "3.10.10"
  }
 },
 "nbformat": 4,
 "nbformat_minor": 2
}
